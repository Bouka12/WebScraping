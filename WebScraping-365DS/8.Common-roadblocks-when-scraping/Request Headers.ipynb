{
 "cells": [
  {
   "cell_type": "code",
   "execution_count": 1,
   "id": "b670de83-a74e-44ec-aa1e-2997300e04fc",
   "metadata": {},
   "outputs": [],
   "source": [
    "import requests"
   ]
  },
  {
   "cell_type": "code",
   "execution_count": 3,
   "id": "49bb44b8-5d68-4342-8fd3-acf6234f9048",
   "metadata": {},
   "outputs": [],
   "source": [
    "# \"Chrome user agent\" search in google for it\n",
    "# scrape youtube\n",
    "headers = {\n",
    "    \"User-Agent\": \"Mozilla/5.0 (Windows NT 10.0; Win64; x64) AppleWebKit/537.36 (KHTML, like Gecko) Chrome/131.0.0.0 Safari/537.36\"\n",
    "}\n",
    "# we can place additional headers in the dictionary!"
   ]
  },
  {
   "cell_type": "code",
   "execution_count": 5,
   "id": "b4e42063-199d-4919-96d9-8c785dd6cffd",
   "metadata": {},
   "outputs": [
    {
     "data": {
      "text/plain": [
       "200"
      ]
     },
     "execution_count": 5,
     "metadata": {},
     "output_type": "execute_result"
    }
   ],
   "source": [
    "r = requests.get(\"https://www.youtube.com/\", headers = headers)\n",
    "r.status_code"
   ]
  },
  {
   "cell_type": "markdown",
   "id": "27e2afa5-f21d-4e6e-861f-8f596691de59",
   "metadata": {},
   "source": [
    "# Cookies"
   ]
  },
  {
   "cell_type": "markdown",
   "id": "76cb32e5-10b3-4ad6-bab5-b8368fbc8c2b",
   "metadata": {},
   "source": [
    "## Session"
   ]
  },
  {
   "cell_type": "code",
   "execution_count": null,
   "id": "d7b5120c-7e7e-4067-8428-4865c74802ee",
   "metadata": {},
   "outputs": [],
   "source": [
    "s = requests.Session() # Initialize a session\n",
    "\n",
    "r_1 = s.post(url_1, data = payload) # Request made through that session\n",
    "r_2 = s.get(url_2)  # Request made through that session\n",
    "\n",
    "s.close() # Close the session \n"
   ]
  },
  {
   "cell_type": "markdown",
   "id": "c008ece8-7fc9-4f15-b9ad-e6271c6690b8",
   "metadata": {},
   "source": [
    "# Log-in systems"
   ]
  },
  {
   "cell_type": "code",
   "execution_count": null,
   "id": "79b9b36d-fe70-4be8-9660-6e89cefae685",
   "metadata": {},
   "outputs": [],
   "source": [
    "# no API access\n",
    "url = \"\"\n",
    "\n",
    "user = \"\"\n",
    "password = \"\"\n",
    "payload = {\n",
    "    \"user[email]\": user,\n",
    "    \"user[password]\": password\n",
    "}"
   ]
  },
  {
   "cell_type": "code",
   "execution_count": null,
   "id": "92ec79af-fae2-4070-9450-c010be7e31a1",
   "metadata": {},
   "outputs": [],
   "source": [
    "s = requests.Session()\n",
    "\n",
    "p = s.post(url, data=payload)\n",
    "p.status_code"
   ]
  },
  {
   "cell_type": "code",
   "execution_count": null,
   "id": "3b40370c-7b77-4a32-83af-68e1d96155d3",
   "metadata": {},
   "outputs": [],
   "source": [
    "# Now we are logged in and can proceed with scraping the data\n",
    "# .\n",
    "# .\n",
    "# .\n",
    "\n",
    "# Don't forget to close the session when you are done\n",
    "s.close()"
   ]
  },
  {
   "cell_type": "markdown",
   "id": "44a8e578-d5b6-458f-bdf8-d6aa01f1f9dc",
   "metadata": {},
   "source": [
    "# Limiting requests"
   ]
  },
  {
   "cell_type": "code",
   "execution_count": null,
   "id": "c6df5923-0670-4b4c-a80d-2a4931d749af",
   "metadata": {},
   "outputs": [],
   "source": [
    "import time"
   ]
  },
  {
   "cell_type": "code",
   "execution_count": null,
   "id": "a77b263b-3cc4-4c9b-97f4-34ad988a9bac",
   "metadata": {},
   "outputs": [],
   "source": [
    "# Make your program wait a couple of seconds between requests, with the help of time.sleep()\n",
    "time.sleep(1)"
   ]
  },
  {
   "cell_type": "markdown",
   "id": "1fa63cf0-c18e-43c6-8b00-2f27d4442d7b",
   "metadata": {},
   "source": [
    "# Captchas"
   ]
  },
  {
   "cell_type": "code",
   "execution_count": null,
   "id": "5c48e9ec-9528-4503-ab00-396f171b78b4",
   "metadata": {},
   "outputs": [],
   "source": []
  },
  {
   "cell_type": "markdown",
   "id": "8ae38781-e9fd-4353-b68c-3482a8f8c4a3",
   "metadata": {},
   "source": [
    "# Dynamically generated info with JavaScript"
   ]
  },
  {
   "cell_type": "code",
   "execution_count": null,
   "id": "edec4c1a-1d56-4b55-bd96-56813ccc64f9",
   "metadata": {},
   "outputs": [],
   "source": []
  }
 ],
 "metadata": {
  "kernelspec": {
   "display_name": "Python 3 (ipykernel)",
   "language": "python",
   "name": "python3"
  },
  "language_info": {
   "codemirror_mode": {
    "name": "ipython",
    "version": 3
   },
   "file_extension": ".py",
   "mimetype": "text/x-python",
   "name": "python",
   "nbconvert_exporter": "python",
   "pygments_lexer": "ipython3",
   "version": "3.12.7"
  }
 },
 "nbformat": 4,
 "nbformat_minor": 5
}
