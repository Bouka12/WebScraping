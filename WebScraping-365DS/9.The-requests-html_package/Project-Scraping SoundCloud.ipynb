{
 "cells": [
  {
   "cell_type": "code",
   "execution_count": 1,
   "id": "0184aa1a-56c9-406f-a9a5-ab1740478ea9",
   "metadata": {},
   "outputs": [],
   "source": [
    "import requests\n",
    "from requests_html import HTMLSession"
   ]
  },
  {
   "cell_type": "code",
   "execution_count": 3,
   "id": "2c4ed419-37ed-4842-a151-4627136f42a4",
   "metadata": {},
   "outputs": [],
   "source": [
    "base_site = \"https://soundcloud.com.discover\""
   ]
  },
  {
   "cell_type": "markdown",
   "id": "38a0746e-4b98-4129-99b0-3afe122c66d7",
   "metadata": {},
   "source": [
    "# Extract links"
   ]
  },
  {
   "cell_type": "code",
   "execution_count": null,
   "id": "1fcde3e9-bd95-4f0e-9795-19aa4b2ae592",
   "metadata": {},
   "outputs": [],
   "source": []
  },
  {
   "cell_type": "code",
   "execution_count": null,
   "id": "5d88dd50-ec33-4f31-8820-e055d94ff504",
   "metadata": {},
   "outputs": [],
   "source": []
  },
  {
   "cell_type": "markdown",
   "id": "1eab7414-996a-49d3-b1bb-3f7d48f3b78f",
   "metadata": {},
   "source": [
    "# Paragraphs"
   ]
  },
  {
   "cell_type": "code",
   "execution_count": null,
   "id": "b1d568ce-24d6-4c49-b5a8-9171fb2987ac",
   "metadata": {},
   "outputs": [],
   "source": []
  },
  {
   "cell_type": "code",
   "execution_count": null,
   "id": "34c7e3c1-fa8d-4d72-b524-cdd45508d6e1",
   "metadata": {},
   "outputs": [],
   "source": []
  },
  {
   "cell_type": "markdown",
   "id": "d699def2-2937-4ae6-ad92-f880985af9ef",
   "metadata": {},
   "source": [
    "# Tags"
   ]
  },
  {
   "cell_type": "code",
   "execution_count": null,
   "id": "008234d8-12b1-4ae1-aa49-8b94fc861000",
   "metadata": {},
   "outputs": [],
   "source": []
  },
  {
   "cell_type": "code",
   "execution_count": null,
   "id": "641aa893-0a64-4c72-960e-3ebe163ee027",
   "metadata": {},
   "outputs": [],
   "source": []
  },
  {
   "cell_type": "markdown",
   "id": "55044700-ccfc-4f3a-8926-921d00c04ca6",
   "metadata": {},
   "source": [
    "# meta tag with \"keywords\""
   ]
  },
  {
   "cell_type": "code",
   "execution_count": null,
   "id": "4bbfdbbf-17e6-43f0-bf37-7476b964e3ff",
   "metadata": {},
   "outputs": [],
   "source": []
  },
  {
   "cell_type": "code",
   "execution_count": null,
   "id": "f995b46a-d855-4b99-a171-e74ee143c82c",
   "metadata": {},
   "outputs": [],
   "source": []
  }
 ],
 "metadata": {
  "kernelspec": {
   "display_name": "Python 3 (ipykernel)",
   "language": "python",
   "name": "python3"
  },
  "language_info": {
   "codemirror_mode": {
    "name": "ipython",
    "version": 3
   },
   "file_extension": ".py",
   "mimetype": "text/x-python",
   "name": "python",
   "nbconvert_exporter": "python",
   "pygments_lexer": "ipython3",
   "version": "3.12.7"
  }
 },
 "nbformat": 4,
 "nbformat_minor": 5
}
