{
 "cells": [
  {
   "cell_type": "markdown",
   "id": "1c1e1f83-d9f7-46ec-9fbc-9d357c49e74d",
   "metadata": {},
   "source": [
    "# Practical examples"
   ]
  },
  {
   "cell_type": "markdown",
   "id": "df6069a0-a68a-4ef2-bd40-667cc6559f67",
   "metadata": {},
   "source": [
    "### Links - absolute path URL"
   ]
  },
  {
   "cell_type": "code",
   "execution_count": null,
   "id": "2acfd978-150f-4b4e-af85-ff53e0d61d39",
   "metadata": {},
   "outputs": [],
   "source": []
  },
  {
   "cell_type": "code",
   "execution_count": null,
   "id": "0f4b54cc-50b9-4c34-b7db-d25ae679fe21",
   "metadata": {},
   "outputs": [],
   "source": []
  },
  {
   "cell_type": "code",
   "execution_count": null,
   "id": "b66cbb71-addf-4fe9-ae73-e121cbcf7cee",
   "metadata": {},
   "outputs": [],
   "source": []
  },
  {
   "cell_type": "code",
   "execution_count": null,
   "id": "2d576d41-e531-42d9-83ef-8045ab59bab8",
   "metadata": {},
   "outputs": [],
   "source": []
  }
 ],
 "metadata": {
  "kernelspec": {
   "display_name": "Python 3 (ipykernel)",
   "language": "python",
   "name": "python3"
  },
  "language_info": {
   "codemirror_mode": {
    "name": "ipython",
    "version": 3
   },
   "file_extension": ".py",
   "mimetype": "text/x-python",
   "name": "python",
   "nbconvert_exporter": "python",
   "pygments_lexer": "ipython3",
   "version": "3.12.7"
  }
 },
 "nbformat": 4,
 "nbformat_minor": 5
}
